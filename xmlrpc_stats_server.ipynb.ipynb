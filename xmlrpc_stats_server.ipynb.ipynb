{
 "cells": [
  {
   "cell_type": "markdown",
   "metadata": {},
   "source": [
    "#### Файл сервера xmlrpc_stats_server_p3.ipynb на Python 3 "
   ]
  },
  {
   "cell_type": "code",
   "execution_count": 1,
   "outputs": [],
   "source": [
    "DB_NAME = 'logging.db'"
   ],
   "metadata": {
    "collapsed": false,
    "ExecuteTime": {
     "end_time": "2023-10-24T15:57:19.975264Z",
     "start_time": "2023-10-24T15:57:19.973262Z"
    }
   }
  },
  {
   "cell_type": "code",
   "execution_count": null,
   "outputs": [
    {
     "name": "stdout",
     "output_type": "stream",
     "text": [
      "Listening on port 8018...\n"
     ]
    },
    {
     "name": "stderr",
     "output_type": "stream",
     "text": [
      "127.0.0.1 - - [24/Oct/2023 18:57:31] \"POST /RPC2 HTTP/1.1\" 200 -\n",
      "127.0.0.1 - - [24/Oct/2023 18:57:31] \"POST /RPC2 HTTP/1.1\" 200 -\n",
      "127.0.0.1 - - [24/Oct/2023 18:57:31] \"POST /RPC2 HTTP/1.1\" 200 -\n"
     ]
    },
    {
     "name": "stdout",
     "output_type": "stream",
     "text": [
      "add log: send_back_binary time: 2023-10-24 18:57:38\n",
      "success add log: send_back_binary time: 2023-10-24 18:57:38\n"
     ]
    },
    {
     "name": "stderr",
     "output_type": "stream",
     "text": [
      "127.0.0.1 - - [24/Oct/2023 18:57:38] \"POST /RPC2 HTTP/1.1\" 200 -\n"
     ]
    },
    {
     "name": "stdout",
     "output_type": "stream",
     "text": [
      "add log: color_inversion time: 2023-10-24 18:57:39\n",
      "success add log: color_inversion time: 2023-10-24 18:57:39\n"
     ]
    },
    {
     "name": "stderr",
     "output_type": "stream",
     "text": [
      "127.0.0.1 - - [24/Oct/2023 18:57:40] \"POST /RPC2 HTTP/1.1\" 200 -\n"
     ]
    },
    {
     "name": "stdout",
     "output_type": "stream",
     "text": [
      "add log: black_list_check time: 2023-10-24 18:57:41\n",
      "success add log: black_list_check time: 2023-10-24 18:57:41\n",
      "add log: black_list_check time: 2023-10-24 18:57:41\n",
      "success add log: black_list_check time: 2023-10-24 18:57:41\n",
      "add log: black_list_check time: 2023-10-24 18:57:41\n",
      "success add log: black_list_check time: 2023-10-24 18:57:41\n"
     ]
    },
    {
     "name": "stderr",
     "output_type": "stream",
     "text": [
      "127.0.0.1 - - [24/Oct/2023 18:57:41] \"POST /RPC2 HTTP/1.1\" 200 -\n",
      "127.0.0.1 - - [24/Oct/2023 18:57:41] \"POST /RPC2 HTTP/1.1\" 200 -\n",
      "127.0.0.1 - - [24/Oct/2023 18:57:41] \"POST /RPC2 HTTP/1.1\" 200 -\n"
     ]
    },
    {
     "name": "stdout",
     "output_type": "stream",
     "text": [
      "add log: bin_img time: 2023-10-24 18:57:41\n",
      "success add log: bin_img time: 2023-10-24 18:57:41\n"
     ]
    },
    {
     "name": "stderr",
     "output_type": "stream",
     "text": [
      "127.0.0.1 - - [24/Oct/2023 18:57:43] \"POST /RPC2 HTTP/1.1\" 200 -\n"
     ]
    },
    {
     "name": "stdout",
     "output_type": "stream",
     "text": [
      "add log: reverse time: 2023-10-24 18:57:43\n",
      "success add log: reverse time: 2023-10-24 18:57:43\n"
     ]
    },
    {
     "name": "stderr",
     "output_type": "stream",
     "text": [
      "127.0.0.1 - - [24/Oct/2023 18:57:44] \"POST /RPC2 HTTP/1.1\" 200 -\n"
     ]
    }
   ],
   "source": [
    "\n",
    "from xmlrpc.server import SimpleXMLRPCServer\n",
    "from xmlrpc.server import SimpleXMLRPCRequestHandler\n",
    "\n",
    "import sqlite3\n",
    "\n",
    "class RequestHandler(SimpleXMLRPCRequestHandler):\n",
    "    rpc_paths = ('/RPC2',)\n",
    "\n",
    "server = SimpleXMLRPCServer((\"localhost\", 8018), \n",
    "                            requestHandler=RequestHandler)\n",
    "\n",
    "def init_db():\n",
    "    db_connection = sqlite3.connect(DB_NAME)\n",
    "    cursor = db_connection.cursor()\n",
    "    cursor.execute('''CREATE TABLE IF NOT EXISTS log(\n",
    "                        id INTEGER PRIMARY KEY,\n",
    "                        type TEXT,\n",
    "                        request_time TEXT,\n",
    "                        processing_duration INTEGER)\n",
    "    ''')\n",
    "    db_connection.commit()\n",
    "    cursor.close()\n",
    "    db_connection.close()\n",
    "init_db()\n",
    "\n",
    "def add_log(type, request_time, processing_duration):\n",
    "    print('add log: ' + type + ' time: ' + request_time)\n",
    "    db_connection = sqlite3.connect(DB_NAME)\n",
    "    cursor = db_connection.cursor()\n",
    "    cursor.execute('INSERT INTO log VALUES(NULL, ?, ?, ?)', (str(type), request_time, processing_duration))\n",
    "    db_connection.commit()\n",
    "    cursor.close()\n",
    "    db_connection.close()\n",
    "    print('success add log: ' + type + ' time: ' + request_time)\n",
    "server.register_function(add_log, 'add_log')\n",
    "\n",
    "def get_logs_by_type(type):\n",
    "    return perform_sql('SELECT * FROM log WHERE type = ?', (type,))\n",
    "server.register_function(get_logs_by_type, 'get_logs_by_type')\n",
    "    \n",
    "def get_logs_by_duration(min, max):\n",
    "    return perform_sql('SELECT * FROM log WHERE processing_duration > ? AND processing_duration < ?', (min, max,))\n",
    "server.register_function(get_logs_by_duration, 'get_logs_by_duration')    \n",
    "\n",
    "def get_logs_by_request_time(min, max):\n",
    "    return perform_sql('SELECT * FROM log WHERE request_time > ? AND request_time < ?', (min, max,))\n",
    "server.register_function(get_logs_by_request_time, 'get_logs_by_request_time')\n",
    "    \n",
    "def perform_sql(sql, args):\n",
    "    db_connection = sqlite3.connect(DB_NAME)\n",
    "    cursor = db_connection.cursor()\n",
    "    cursor.execute(sql, args)\n",
    "    result = cursor.fetchall()\n",
    "    cursor.close()\n",
    "    db_connection.close()\n",
    "    return result\n",
    "\n",
    "print (\"Listening on port 8018...\")\n",
    "server.serve_forever()"
   ],
   "metadata": {
    "collapsed": false,
    "is_executing": true,
    "ExecuteTime": {
     "start_time": "2023-10-24T15:57:19.979617Z"
    }
   }
  }
 ],
 "metadata": {
  "kernelspec": {
   "display_name": "Python 3 (ipykernel)",
   "language": "python",
   "name": "python3"
  },
  "language_info": {
   "codemirror_mode": {
    "name": "ipython",
    "version": 3
   },
   "file_extension": ".py",
   "mimetype": "text/x-python",
   "name": "python",
   "nbconvert_exporter": "python",
   "pygments_lexer": "ipython3",
   "version": "3.9.12"
  }
 },
 "nbformat": 4,
 "nbformat_minor": 2
}
